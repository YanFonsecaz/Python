{
 "cells": [
  {
   "cell_type": "markdown",
   "id": "738db7ad",
   "metadata": {},
   "source": [
    "# Anotações Python Analise de Dados e Machine Learning"
   ]
  },
  {
   "cell_type": "code",
   "execution_count": null,
   "id": "3127bd06",
   "metadata": {},
   "outputs": [],
   "source": [
    "# Tipos de FOR:\n",
    "# Strings\n",
    "for i in nomes:\n",
    "    print(i)\n",
    "# Numbers range(Inicio,Fim,Passo)\n",
    "for i in range(1,10,2):\n",
    "    print(i)"
   ]
  },
  {
   "cell_type": "markdown",
   "id": "c5545de8",
   "metadata": {},
   "source": [
    "## Metodos de Strings"
   ]
  },
  {
   "cell_type": "code",
   "execution_count": null,
   "id": "38546d8e",
   "metadata": {},
   "outputs": [],
   "source": [
    "# Metodos de Strings:\n",
    "teste=\"teste\"\n",
    "len(teste) # Retorna o tamanho da string\n",
    "email = \"yanbmw@email.com\"\n",
    "\"bmw\" in email # Retorna True se a string \"bmw\" estiver no email\n",
    "\"bmw\" not in email # Retorna True se a string \"bmw\" não estiver no email\n",
    "nome = \"Yan\"\n",
    "nome.capitalize() # Retorna(Deixa a primeira letra maiuscula) a string com a primeira letra maiuscula\n",
    "nome.count(\"n\") # Retorna o numero de vezes que a letra \"n\" aparece na string\n",
    "nome.find(\"n\") # Retorna o indice da primeira letra \"n\" na string\n",
    "nome.index(\"n\") # Retorna o indice da primeira letra \"n\" na string\n",
    "email.startswith(\"yan\") # Retorna True se a string começar com \"yan\"\n",
    "email.endswith(\"com\") # Retorna True se a string terminar com \"com\"\n",
    "cpf = \"1111111111\"\n",
    "cpf.isnumeric() # Retorna True se a string for um numero\n",
    "cpf.isalpha() # Retorna True se a string for apenas letras\n",
    "cpf.isalnum() # Retorna True se a string for apenas letras e numeros\n",
    "nomeEspaco=\"      teste         \"\n",
    "nomeEspaco.strip() # Retorna a string sem os espaços no inicio e no fim\n",
    "frase = \"Python é uma otima linguagem\"\n",
    "frase.split() # Recorta uma string no demilitador \"espaço\" e retorna uma lista\n"
   ]
  },
  {
   "cell_type": "markdown",
   "id": "98183b02",
   "metadata": {},
   "source": [
    "## Formatando Strings"
   ]
  },
  {
   "cell_type": "code",
   "execution_count": null,
   "id": "aa5d0f95",
   "metadata": {},
   "outputs": [],
   "source": [
    "#Formatando valores float\n",
    "valor =10.5555\n",
    "print(f\"O valor formatado é: {valor:.2f}\")\n",
    "#inserir separador milenar\n",
    "print(f\"O valor formatado é: {valor:,.2f}\")\n"
   ]
  },
  {
   "cell_type": "markdown",
   "id": "fcb692da",
   "metadata": {},
   "source": [
    "## Metodos de Listas"
   ]
  },
  {
   "cell_type": "code",
   "execution_count": null,
   "id": "95d9d0c5",
   "metadata": {},
   "outputs": [],
   "source": [
    "append() # adiciona um elemento ao final da lista\n",
    "insert(1, \"Banana\") # adiciona um elemento em uma posição específica da lista o 1 representa o índice\n",
    "extend() #junta duas listas\n",
    "remove(\"Banana\") # remove o primeiro elemento encontrado com o valor especificado\n",
    "pop() # remove o último elemento da lista e o retorna\n",
    "clear() # Limpa toda a lista\n",
    "\n",
    "# demilitando os arrays [0:10:2] \n",
    "# 0 representa o índice inicial\n",
    "# 10 representa o índice final\n",
    "# 2 representa o passo"
   ]
  },
  {
   "cell_type": "markdown",
   "id": "46bd1766",
   "metadata": {},
   "source": [
    "## Matrizes"
   ]
  },
  {
   "cell_type": "code",
   "execution_count": null,
   "id": "4a1f93df",
   "metadata": {},
   "outputs": [],
   "source": [
    "#Acessando valores de uma matriz\n",
    "matriz = [[1, 2, 3], [4, 5, 6], [7, 8, 9]]\n",
    "print(matriz[0][2]) # acessando o valor na primeira linha e terceira coluna\n",
    "\n",
    "#percorrendo uma matriz\n",
    "for linha in matriz:\n",
    "    for elemento in linha:\n",
    "        print(elemento) \n",
    "        #print(elemento, end=\"\") o end=\"\" remove a quebra de linha\n",
    "\n",
    "for dados in cabolaboradores[1:]:\n",
    "    nome,cargo,departamento = dados  # voce guarda os valores dentro de cada variavel\n",
    "    print(f\"Nome: {nome}, Cargo: {cargo}, Departamento: {departamento}\")\n"
   ]
  },
  {
   "cell_type": "markdown",
   "id": "697a3237",
   "metadata": {},
   "source": [
    "## Tuplas"
   ]
  },
  {
   "cell_type": "code",
   "execution_count": null,
   "id": "cec31691",
   "metadata": {},
   "outputs": [],
   "source": [
    "# Tuplas são imutaveis para conseguir alterar valores nas tuplas é necessário converter para uma lista\n",
    "tupla = (1, 2, 3, 4, 5)\n",
    "lista = list(tupla)\n",
    "lista[0] = 10\n",
    "tupla = tuple(lista)\n",
    "print(tupla)\n",
    "\n",
    "# Extraindo Dados da tuplas e atribuindo a variaveis\n",
    "tupla = (\"Yan\", 25, \"São Paulo\")\n",
    "nome, idade, cidade = tupla\n",
    "print(nome)\n",
    "print(idade)\n",
    "print(cidade)"
   ]
  },
  {
   "cell_type": "markdown",
   "id": "cc6e0885",
   "metadata": {},
   "source": [
    "## Dicionarios"
   ]
  },
  {
   "cell_type": "code",
   "execution_count": null,
   "id": "2c536925",
   "metadata": {},
   "outputs": [],
   "source": [
    "# Dicionarios são ordenados as chaves nao podem ser duplicadas se existir uma chave duplicada o ultimo valor será o que será salvo\n",
    "# Metodo get tras o valor da chave\n",
    "dicionario = {\"nome\": \"Yan\", \"idade\": 25, \"cidade\": \"São Paulo\"}\n",
    "print(dicionario.get(\"nome\"))\n",
    "print(dicionario.get(\"idade\"))\n",
    "print(dicionario.get(\"cidade\"))\n",
    "print(dicionario.get(\"email\")) # se a chave não existir ele retorna None\n",
    "\n",
    "# Metodo dicionario.Keys retorna as chaves do dicionario\n",
    "print(dicionario.keys())\n",
    "\n",
    "# Metodo dicionario.values retorna os valores do dicionario\n",
    "print(dicionario.values())\n",
    "\n",
    "# Metodo dicionario.items retorna as chaves e valores do dicionario\n",
    "print(dicionario.items())\n",
    "\n",
    "# Para verificar a existencia de uma chave no dicionario\n",
    "print(\"nome\" in dicionario)\n",
    "print(\"email\" in dicionario)\n",
    "\n",
    "# Para fazer uma copia do dicionario\n",
    "dicionario_copia = dicionario.copy()\n",
    "print(dicionario_copia)\n",
    "\n",
    "# Para acessar valores do dicionario\n",
    "print(dicionario[\"nome\"])\n",
    "print(dicionario[\"idade\"])\n",
    "print(dicionario[\"cidade\"])\n",
    "\n",
    "# Percorrendo um dicionario\n",
    "for chave, valor in dicionario.items():\n",
    "    print(f\"{chave}: {valor}\")\n"
   ]
  },
  {
   "cell_type": "markdown",
   "id": "9fece7e5",
   "metadata": {},
   "source": [
    "## Sets"
   ]
  },
  {
   "cell_type": "code",
   "execution_count": null,
   "id": "1062f9c4",
   "metadata": {},
   "outputs": [],
   "source": [
    "# Sets são criadas com chaves {} e não podem ter valores duplicados e usam apenas os valores sem chave\n",
    "conjunto = {1, 2, 3, 4, 5}\n",
    "print(conjunto)\n",
    "\n",
    "# Para criar um conjunto vazio é necessário usar o metodo set()\n",
    "conjunto_vazio = set()\n",
    "print(conjunto_vazio)\n",
    "\n",
    "# Para acessar os valores de um conjunto é necessário usar um laço de repetição\n",
    "for valor in conjunto:\n",
    "    print(valor)\n",
    "\n",
    "# Metodos do SET\n",
    "\n",
    "# Metodo de União \n",
    "conjunto1 = {1, 2, 3}\n",
    "conjunto2 = {3, 4, 5}\n",
    "uniao = conjunto1.union(conjunto2) # ou usar o operador | # uniao = conjunto1 | conjunto2\n",
    "print(uniao)\n",
    "\n",
    "# Metodo de Intersecção (Apenas os valores que estão em ambos os conjuntos)\n",
    "interseccao = conjunto1.intersection(conjunto2) # ou usar o operador & # interseccao = conjunto1 & conjunto2\n",
    "print(interseccao)\n",
    "\n",
    "# Metodo de Diferença (Valores que estão apenas no primeiro conjunto)\n",
    "diferenca = conjunto1.difference(conjunto2) # ou usar o operador - # diferenca = conjunto1 - conjunto2\n",
    "print(diferenca)\n",
    "\n",
    "# Metodo de Diferença Simétrica (Valores que estão apenas em um dos conjuntos)\n",
    "diferenca_simetrica = conjunto1.symmetric_difference(conjunto2) # ou usar o operador ^ # diferenca_simetrica = conjunto1 ^ conjunto2\n",
    "print(diferenca_simetrica)"
   ]
  },
  {
   "cell_type": "markdown",
   "id": "092a026a",
   "metadata": {},
   "source": [
    "## Funções"
   ]
  },
  {
   "cell_type": "code",
   "execution_count": null,
   "id": "dfb26463",
   "metadata": {},
   "outputs": [],
   "source": [
    "# Quando voce nao sabe quantos argumentos uma função vai receber, voce pode usar o *args\n",
    "# gera uma tupla com os argumentos passados\n",
    "def soma(*args):\n",
    "    total = 0\n",
    "    for num in args:\n",
    "        total += num\n",
    "    return total\n",
    "\n",
    "# Quando voce quer enviar parametros nomeados, voce pode usar o **kwargs\n",
    "# gera um dicionario com os argumentos passados\n",
    "def soma(**kwargs):\n",
    "    total = 0\n",
    "    for num in kwargs.values():\n",
    "        total += num\n",
    "    return total"
   ]
  },
  {
   "cell_type": "markdown",
   "id": "3c8a9ddc",
   "metadata": {},
   "source": [
    "## Função Lambda"
   ]
  },
  {
   "cell_type": "code",
   "execution_count": null,
   "id": "3ce7d3db",
   "metadata": {},
   "outputs": [],
   "source": [
    "# Função Lambda ou Função Anônima\n",
    "# Sintaxe\n",
    "lambda argumentos: expressão\n",
    "\n",
    "# Exemplo\n",
    "# Função Lambda que retorna o dobro de um número\n",
    "dobro = lambda x: x * 2\n",
    "print(dobro(5))\n"
   ]
  },
  {
   "cell_type": "markdown",
   "id": "ab9dda4e",
   "metadata": {},
   "source": [
    "## Importando Bibliotecas"
   ]
  },
  {
   "cell_type": "code",
   "execution_count": null,
   "id": "c6206a60",
   "metadata": {},
   "outputs": [],
   "source": [
    "# Caso voce queira importar apenas um dos metodos de uma biblioteca, voce pode fazer da seguinte forma:\n",
    "from math import sqrt\n",
    "\n",
    "# Apelidando bibliotecas importadas\n",
    "# Voce pode apelidar uma biblioteca importada para facilitar o uso\n",
    "import math as m"
   ]
  },
  {
   "cell_type": "markdown",
   "id": "451f578e",
   "metadata": {},
   "source": [
    "## List Comprehension"
   ]
  },
  {
   "cell_type": "code",
   "execution_count": null,
   "id": "e4669955",
   "metadata": {},
   "outputs": [],
   "source": [
    "# Sintaxe\n",
    "[expressão for item in iterável if condição]\n",
    "# Exemplo\n",
    "# Criar uma lista com os quadrados dos números de 1 a 5\n",
    "quadrados = [x**2 for x in range(1, 6)]\n",
    "print(quadrados)\n",
    "\n",
    "# Criar uma lista com os números pares de 1 a 10 usando IF\n",
    "pares = [x for x in range(1, 11) if x % 2 == 0]\n",
    "print(pares)\n",
    "\n",
    "# Criando uma lista de string deixando a frase em maiusculo\n",
    "frase = 'Olá, como está?'\n",
    "frase_maiusculo = [palavra.upper() for palavra in frase.split()]\n",
    "print(frase_maiusculo)\n",
    "\n",
    "# Criando uma lista de Par e Impar\n",
    "par_impar = ['Par' if x % 2 == 0 else 'Impar' for x in range(1, 11)]\n",
    "print(par_impar)"
   ]
  }
 ],
 "metadata": {
  "kernelspec": {
   "display_name": "venv",
   "language": "python",
   "name": "python3"
  },
  "language_info": {
   "codemirror_mode": {
    "name": "ipython",
    "version": 3
   },
   "file_extension": ".py",
   "mimetype": "text/x-python",
   "name": "python",
   "nbconvert_exporter": "python",
   "pygments_lexer": "ipython3",
   "version": "3.13.7"
  }
 },
 "nbformat": 4,
 "nbformat_minor": 5
}
