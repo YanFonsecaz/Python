{
 "cells": [
  {
   "cell_type": "code",
   "execution_count": 14,
   "id": "41953eca",
   "metadata": {},
   "outputs": [],
   "source": [
    "from crewai import Agent, Task, Crew\n",
    "from IPython.display import Markdown\n"
   ]
  },
  {
   "cell_type": "code",
   "execution_count": 3,
   "id": "0025de9a",
   "metadata": {},
   "outputs": [],
   "source": [
    "import os\n",
    "os.environ[\"OPENAI_API_KEY\"] = \"sk-...\"\n",
    "os.environ[\"OPENAI_MODEL_NAME\"] = \"gpt-3.5-turbo\""
   ]
  },
  {
   "cell_type": "code",
   "execution_count": null,
   "id": "d943a7d3",
   "metadata": {},
   "outputs": [],
   "source": [
    "# Grupo De Agents Para Escrever Artigos\n",
    "# 1. Planner - Planejador de Artigos\n",
    "# 2. Writer - Escritor de Artigos\n",
    "# 3. Editor - Editor de Artigos"
   ]
  },
  {
   "cell_type": "code",
   "execution_count": 5,
   "id": "0e708d8b",
   "metadata": {},
   "outputs": [],
   "source": [
    "planner = Agent(\n",
    "    role=\"Content Planner\",\n",
    "    goal=\"Plan engaging and factually accurate content about the {topic}\",\n",
    "    backstory=\"\"\"\n",
    "        You're working on planning a blog post article about the topic:{topic}\n",
    "        You collect information that helps the audience learn something and make informed decisions.\n",
    "        Your work is the basis for the Content Writer to write the arcticle on this topic.\n",
    "    \"\"\",\n",
    "    allow_delegation=False,\n",
    "    verbose=True,\n",
    ")"
   ]
  },
  {
   "cell_type": "code",
   "execution_count": 6,
   "id": "93d0e9e7",
   "metadata": {},
   "outputs": [],
   "source": [
    "writer = Agent(\n",
    "    role=\"Content Writer\",\n",
    "    goal=\"Write insightfull and factually accurate opinion piece about the topic:{topic}\",\n",
    "    backstory=\"\"\"\n",
    "        You're working on writing an opinion about the topic:{topic}.\n",
    "        You base your opinion on the work of the Content Planner, who provides an outline and relevant context\n",
    "        about the topic. You follow the main objectives and direction of the outline, as provided by the Content Planner.\n",
    "        You also provide objective and impartial insights and back them with information provided by the Content Planner.\n",
    "    \"\"\",\n",
    "    allow_delegation=False,\n",
    "    verbose=True,\n",
    ")"
   ]
  },
  {
   "cell_type": "code",
   "execution_count": 7,
   "id": "57e38f80",
   "metadata": {},
   "outputs": [],
   "source": [
    "editor = Agent(\n",
    "    role = \"Editor\",\n",
    "    goal=\"Edit a given blog post article to align with the writing style of the organization.\",\n",
    "    backstory=\"\"\"\n",
    "        You are a editor that receives a blog post from the Content Writer.\n",
    "        Your goal is to review the blog post to ensure that it follows journalistic best practices.\n",
    "    \"\"\",\n",
    "    allow_delegation=False,\n",
    "    verbose=True,\n",
    ")"
   ]
  },
  {
   "cell_type": "code",
   "execution_count": 9,
   "id": "fbb645e3",
   "metadata": {},
   "outputs": [],
   "source": [
    "plan = Task(\n",
    "    description=(\n",
    "        \"1. Prioritaze the last trends, key players, and noteworthy news on {topic}\"\n",
    "        \"2. Identify the target audience, considering their interests and pain points.\"\n",
    "        \"3. Develop a detaild content outline including and introduction, key points, and call to action\"\n",
    "        \"4. Include SEO Keyword and relevant data or sources.\"\n",
    "    ),\n",
    "    expected_output=\"A comprehensive content plan document with an outline, audience analysis, SEO keywords, and resources.\",\n",
    "    agent=planner,\n",
    ")"
   ]
  },
  {
   "cell_type": "code",
   "execution_count": 11,
   "id": "5156691f",
   "metadata": {},
   "outputs": [],
   "source": [
    "write = Task(\n",
    "    description=(\n",
    "        \"1. Use the content plan to craft a compelling blog post on topic {topic}.\"\n",
    "        \"2. Incorporate the SEO keywords naturally\"\n",
    "        \"3. Sections/Subtitles are properly named is engaging manner\"\n",
    "        \"4. Ensure the post is scructured with an engaging introduction, insightful body, and summarization conclusion.\"\n",
    "    ),\n",
    "    expected_output=\"A well-structured blog post in Markdown format, ready for publication, each section should have 2 or 3 paragraphs.\",\n",
    "    agent=writer,\n",
    ")"
   ]
  },
  {
   "cell_type": "code",
   "execution_count": 12,
   "id": "b6143f4a",
   "metadata": {},
   "outputs": [],
   "source": [
    "edit = Task(\n",
    "    description=(\n",
    "        \"Proofread the given blog post for grammatical erros and aligment with the brand's voice.\"\n",
    "    ),\n",
    "    expected_output=\"A well-writen blog post in Markdown format, ready for publication.\",\n",
    "    agent=editor,\n",
    ")"
   ]
  },
  {
   "cell_type": "code",
   "execution_count": 13,
   "id": "a1be82ad",
   "metadata": {},
   "outputs": [],
   "source": [
    "crew = Crew(\n",
    "    agents=[planner, writer, editor],\n",
    "    tasks=[plan, write, edit],\n",
    "    verbose=True,\n",
    ")"
   ]
  },
  {
   "cell_type": "code",
   "execution_count": null,
   "id": "606d0cce",
   "metadata": {},
   "outputs": [],
   "source": [
    "result = crew.kickoff(inputs={\"topic\": \"The Future of AI in Healthcare\"})"
   ]
  },
  {
   "cell_type": "code",
   "execution_count": null,
   "id": "c83e0086",
   "metadata": {},
   "outputs": [],
   "source": [
    "Markdown(result)"
   ]
  }
 ],
 "metadata": {
  "kernelspec": {
   "display_name": "venv",
   "language": "python",
   "name": "python3"
  },
  "language_info": {
   "codemirror_mode": {
    "name": "ipython",
    "version": 3
   },
   "file_extension": ".py",
   "mimetype": "text/x-python",
   "name": "python",
   "nbconvert_exporter": "python",
   "pygments_lexer": "ipython3",
   "version": "3.13.7"
  }
 },
 "nbformat": 4,
 "nbformat_minor": 5
}
