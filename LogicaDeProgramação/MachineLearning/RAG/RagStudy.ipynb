{
 "cells": [
  {
   "cell_type": "code",
   "execution_count": 17,
   "id": "dfd44b1d",
   "metadata": {},
   "outputs": [],
   "source": [
    "from langchain_text_splitters import RecursiveCharacterTextSplitter\n",
    "from langchain_community.embeddings import OllamaEmbeddings\n",
    "from langchain_community.vectorstores import Chroma\n",
    "from langchain_community.llms import Ollama\n",
    "from langchain_community.document_loaders import PyPDFLoader\n",
    "from langchain.chains.question_answering import load_qa_chain"
   ]
  },
  {
   "cell_type": "code",
   "execution_count": 18,
   "id": "5ca03efe",
   "metadata": {},
   "outputs": [],
   "source": [
    "embeddings_model = OllamaEmbeddings(\n",
    "    model='nomic-embed-text'\n",
    ")\n",
    "llm_model = Ollama(model='gemma3:4b') # Modelo de LLM do Ollama"
   ]
  },
  {
   "cell_type": "code",
   "execution_count": 19,
   "id": "f464633f",
   "metadata": {},
   "outputs": [],
   "source": [
    "carregar_pdf = PyPDFLoader(\"yan.pdf\", extract_images=False)\n",
    "\n",
    "divide_pdf = carregar_pdf.load_and_split()"
   ]
  },
  {
   "cell_type": "code",
   "execution_count": 20,
   "id": "e1d4fe3d",
   "metadata": {},
   "outputs": [],
   "source": [
    "dividir_texto = RecursiveCharacterTextSplitter(\n",
    "    chunk_size=2000,\n",
    "    chunk_overlap=200,\n",
    "    length_function = len,\n",
    ")\n",
    "\n",
    "chunks = dividir_texto.split_documents(divide_pdf)"
   ]
  },
  {
   "cell_type": "code",
   "execution_count": null,
   "id": "1eaed0d6",
   "metadata": {},
   "outputs": [],
   "source": [
    "vector_db = Chroma.from_documents(\n",
    "    chunks,\n",
    "    embeddings_model,\n",
    "    persist_directory=\"chroma_db\"\n",
    ")\n",
    "\n",
    "vector_db.persist()"
   ]
  },
  {
   "cell_type": "code",
   "execution_count": 22,
   "id": "2c7ccf6e",
   "metadata": {},
   "outputs": [
    {
     "name": "stderr",
     "output_type": "stream",
     "text": [
      "/var/folders/5l/x5tjl9qn4kq7zrm6vh3twr300000gn/T/ipykernel_73110/4236653446.py:7: LangChainDeprecationWarning: This class is deprecated. See the following migration guides for replacements based on `chain_type`:\n",
      "stuff: https://python.langchain.com/docs/versions/migrating_chains/stuff_docs_chain\n",
      "map_reduce: https://python.langchain.com/docs/versions/migrating_chains/map_reduce_chain\n",
      "refine: https://python.langchain.com/docs/versions/migrating_chains/refine_chain\n",
      "map_rerank: https://python.langchain.com/docs/versions/migrating_chains/map_rerank_docs_chain\n",
      "\n",
      "See also guides on retrieval and question-answering here: https://python.langchain.com/docs/how_to/#qa-with-rag\n",
      "  chain = load_qa_chain(llm_model, chain_type=\"stuff\")\n"
     ]
    }
   ],
   "source": [
    "vector_db = Chroma(\n",
    "    persist_directory=\"chroma_db\",\n",
    "    embedding_function=embeddings_model,\n",
    ")\n",
    "retriever = vector_db.as_retriever(search_kwargs={\"k\": 3})\n",
    "\n",
    "chain = load_qa_chain(llm_model, chain_type=\"stuff\")"
   ]
  },
  {
   "cell_type": "code",
   "execution_count": 23,
   "id": "46b59152",
   "metadata": {},
   "outputs": [],
   "source": [
    "def pergunta(pergunta_user):\n",
    "    contexto = retriever.get_relevant_documents(pergunta_user)\n",
    "    resposta = (chain({\"input_documents\": contexto, \"question\": pergunta_user}, return_only_outputs=True)) ['output_text']\n",
    "    return resposta, contexto"
   ]
  },
  {
   "cell_type": "code",
   "execution_count": 24,
   "id": "f052f26d",
   "metadata": {},
   "outputs": [
    {
     "name": "stderr",
     "output_type": "stream",
     "text": [
      "/var/folders/5l/x5tjl9qn4kq7zrm6vh3twr300000gn/T/ipykernel_73110/908370812.py:2: LangChainDeprecationWarning: The method `BaseRetriever.get_relevant_documents` was deprecated in langchain-core 0.1.46 and will be removed in 1.0. Use :meth:`~invoke` instead.\n",
      "  contexto = retriever.get_relevant_documents(pergunta_user)\n",
      "/var/folders/5l/x5tjl9qn4kq7zrm6vh3twr300000gn/T/ipykernel_73110/908370812.py:3: LangChainDeprecationWarning: The method `Chain.__call__` was deprecated in langchain 0.1.0 and will be removed in 1.0. Use :meth:`~invoke` instead.\n",
      "  resposta = (chain({\"input_documents\": contexto, \"question\": pergunta_user}, return_only_outputs=True)) ['output_text']\n"
     ]
    },
    {
     "name": "stdout",
     "output_type": "stream",
     "text": [
      "Based on the provided text, Yan Carlos dos Santos Fonseca’s objective is to secure a Junior Developer position where he can apply his skills in HTML, CSS, JavaScript, performance analysis, and database knowledge (PostgreSQL) to create scalable software solutions. He is currently transitioning his career towards software engineering.\n",
      "[Document(metadata={'creator': 'Canva', 'keywords': 'DAGt2cdhoUk,BAGgCc2VCb8,0', 'title': 'Yan Carlos dos Santos Fonseca', 'producer': 'Canva', 'page': 3, 'author': 'Yan Carlos dos Santos Fonseca', 'source': 'yan.pdf', 'page_label': '4', 'total_pages': 5, 'creationdate': '2025-08-13T00:03:15+00:00', 'moddate': '2025-08-13T00:03:15+00:00'}, page_content='Yan Carlos dos Santos Fonseca\\nContato:\\nTelefone: (44) 99119-9940\\nEmail: yanfonsecacorp@gmail.com\\nEndereço: Rua dos Eucaliptos 565, Sarandi\\nPosicionamento Proﬁssional\\nSou um proﬁssional de tecnologia com experiência em SEO Técnico e otimização de \\nperformance web, atualmente em transição de carreira para Engenharia de Software. Minha \\nbase em HTML, CSS, JavaScript e análise de performance (Core Web Vitals, SSR/CSR) me \\nproporciona uma perspectiva única sobre a construção de aplicações eﬁcientes e focadas no \\nusuário. Busco ativamente uma oportunidade como Desenvolvedor Júnior para aplicar meu \\nraciocínio lógico e minha paixão por criar soluções de software escaláveis.\\nResumo Proﬁssional\\nEstudante de Engenharia de Software com experiência prática em otimização de websites e \\nanálise de performance. Possuo conhecimento em tecnologias front-end (HTML, CSS, JavaScript), \\nbancos de dados (PostgreSQL) e noções de renderização no lado do servidor (SSR) e cliente'), Document(metadata={'source': 'yan.pdf', 'creator': 'Canva', 'total_pages': 5, 'moddate': '2025-08-13T00:03:15+00:00', 'page_label': '4', 'creationdate': '2025-08-13T00:03:15+00:00', 'author': 'Yan Carlos dos Santos Fonseca', 'keywords': 'DAGt2cdhoUk,BAGgCc2VCb8,0', 'page': 3, 'producer': 'Canva', 'title': 'Yan Carlos dos Santos Fonseca'}, page_content='Yan Carlos dos Santos Fonseca\\nContato:\\nTelefone: (44) 99119-9940\\nEmail: yanfonsecacorp@gmail.com\\nEndereço: Rua dos Eucaliptos 565, Sarandi\\nPosicionamento Proﬁssional\\nSou um proﬁssional de tecnologia com experiência em SEO Técnico e otimização de \\nperformance web, atualmente em transição de carreira para Engenharia de Software. Minha \\nbase em HTML, CSS, JavaScript e análise de performance (Core Web Vitals, SSR/CSR) me \\nproporciona uma perspectiva única sobre a construção de aplicações eﬁcientes e focadas no \\nusuário. Busco ativamente uma oportunidade como Desenvolvedor Júnior para aplicar meu \\nraciocínio lógico e minha paixão por criar soluções de software escaláveis.\\nResumo Proﬁssional\\nEstudante de Engenharia de Software com experiência prática em otimização de websites e \\nanálise de performance. Possuo conhecimento em tecnologias front-end (HTML, CSS, JavaScript), \\nbancos de dados (PostgreSQL) e noções de renderização no lado do servidor (SSR) e cliente'), Document(metadata={'keywords': 'DAGt2cdhoUk,BAGgCc2VCb8,0', 'total_pages': 5, 'title': 'Yan Carlos dos Santos Fonseca', 'moddate': '2025-08-13T00:03:15+00:00', 'creationdate': '2025-08-13T00:03:15+00:00', 'page': 1, 'author': 'Yan Carlos dos Santos Fonseca', 'producer': 'Canva', 'page_label': '2', 'creator': 'Canva', 'source': 'yan.pdf'}, page_content='Posicionamento Profissional \\nProfissional de tecnologia com experiência em SEO Técnico e otimização de performance\\nweb, atualmente em transição de carreira para Engenharia de Software. Minha base em\\nHTML, CSS, JavaScript e análise de performance (Core Web Vitals, SSR/CSR) me\\nproporciona uma perspectiva única sobre a construção de aplicações eficientes e focadas\\nno usuário. Busco ativamente uma oportunidade como Desenvolvedor Júnior para aplicar\\nmeu raciocínio lógico e minha paixão por criar soluções de software escaláveis. \\nYan Carlos dos Santos Fonseca\\n(44) 99119-9940 | yanfonsecacorp@gmail.com | Rua dos Eucaliptos 565 \\nResumo Profissional\\nEstudante de Engenharia de Software com experiência prática em otimização de websites e\\nanálise de performance. Possuo conhecimento em tecnologias front-end (HTML, CSS,\\nJavaScript), bancos de dados (PostgreSQL) e noções de renderização no lado do servidor\\n(SSR) e cliente (CSR). Com um perfil proativo e focado em aprendizado contínuo, busco')]\n"
     ]
    }
   ],
   "source": [
    "pergunta_user = input(\"Digite sua pergunta: \")\n",
    "resposta, contexto = pergunta(pergunta_user)\n",
    "print(resposta)\n",
    "print(contexto)"
   ]
  }
 ],
 "metadata": {
  "kernelspec": {
   "display_name": "venv",
   "language": "python",
   "name": "python3"
  },
  "language_info": {
   "codemirror_mode": {
    "name": "ipython",
    "version": 3
   },
   "file_extension": ".py",
   "mimetype": "text/x-python",
   "name": "python",
   "nbconvert_exporter": "python",
   "pygments_lexer": "ipython3",
   "version": "3.13.7"
  }
 },
 "nbformat": 4,
 "nbformat_minor": 5
}
