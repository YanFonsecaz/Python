{
 "cells": [
  {
   "cell_type": "code",
   "execution_count": 5,
   "id": "55767faf",
   "metadata": {},
   "outputs": [],
   "source": [
    "from langchain_text_splitters import RecursiveCharacterTextSplitter # Divide de texto em chunks\n",
    "from langchain_community.embeddings import OllamaEmbeddings # Gera embeddings transforma texto em vetores numéricos\n",
    "from langchain_openai import ChatOpenAI # Modelo de linguagem para geração de respostas\n",
    "from langchain_community.vectorstores import Chroma # Banco de dados vetorial para armazenar embeddings\n",
    "from langchain_community.document_loaders import PyPDFLoader # Carregador de documentos PDF\n",
    "from langchain.chains.question_answering import load_qa_chain # Cria uma cadeia de perguntas e respostas faz a combinação de embeddings e modelo de linguagem"
   ]
  },
  {
   "cell_type": "code",
   "execution_count": null,
   "id": "9242fdf8",
   "metadata": {},
   "outputs": [],
   "source": [
    "import os # Importa o módulo os para interagir com o sistema operacional para ser o arquivo e pegar a API key"
   ]
  },
  {
   "cell_type": "code",
   "execution_count": 4,
   "id": "75808010",
   "metadata": {},
   "outputs": [],
   "source": [
    "os.environ[\"OPENAI_API_KEY\"] = \"OPENAI_API_KEY""
   ]
  },
  {
   "cell_type": "code",
   "execution_count": 8,
   "id": "c4983e85",
   "metadata": {},
   "outputs": [],
   "source": [
    "# Carregar os modelos(Embeddings e LLM)\n",
    "embeddings_model = OllamaEmbeddings(model='nomic-embed-text') # Modelo de embeddings do Ollama\n",
    "llm_model = ChatOpenAI(model_name = \"gpt-3.5-turbo\", max_tokens = 200) # Modelo de LLM do OpenAI"
   ]
  },
  {
   "cell_type": "code",
   "execution_count": null,
   "id": "e7e17537",
   "metadata": {},
   "outputs": [],
   "source": [
    "# Carregar o PDF\n",
    "pdf_loader = PyPDFLoader(\"yan.pdf\", extract_images=False) # Carregador de documentos PDF\n",
    "pages = pdf_loader.load_and_split() # Divide o PDF em páginas"
   ]
  },
  {
   "cell_type": "code",
   "execution_count": 19,
   "id": "96126fbc",
   "metadata": {},
   "outputs": [],
   "source": [
    "# Separar em Chucks (Dividir o texto em pedaços menores)\n",
    "text_splitter = RecursiveCharacterTextSplitter(\n",
    "    chunk_size = 1000, # Tamanho máximo de cada chunk\n",
    "    chunk_overlap = 200, # Overlap entre os chunks para manter o contexto\n",
    "    length_function = len # Função para calcular o comprimento do texto\n",
    ")\n",
    "\n",
    "chunks = text_splitter.split_documents(pages) # Divide as páginas em chunks"
   ]
  },
  {
   "cell_type": "code",
   "execution_count": null,
   "id": "59447807",
   "metadata": {},
   "outputs": [],
   "source": [
    "# Salvar no Vector DB (Chroma)\n",
    "vector_db = Chroma.from_documents(chunks, embeddings_model, persist_directory=\"chroma_db\") # Cria um banco de dados vetorial a partir dos chunks\n",
    "db.persist() # Persiste o banco de dados vetorial"
   ]
  },
  {
   "cell_type": "code",
   "execution_count": null,
   "id": "080da269",
   "metadata": {},
   "outputs": [],
   "source": [
    "#Carregar o Vector DB (Chroma)\n",
    "vector_db = Chroma(persist_directory=\"chroma_db\", embedding_function=embeddings_model) # Carrega o banco de dados vetorial persistido\n",
    "\n",
    "# Load the retriever\n",
    "retriever = vector_db.as_retriever(search_kwargs={\"k\": 3}) # Retorna os 3 chunks mais similares\n",
    "\n",
    "#construção da cadeia de prompt para chamada do LLM\n",
    "chain = load_qa_chain(llm_model, chain_type=\"stuff\") # Cria uma cadeia de prompt para chamada do LLM\n"
   ]
  },
  {
   "cell_type": "code",
   "execution_count": null,
   "id": "671a006a",
   "metadata": {},
   "outputs": [],
   "source": [
    "def pergunta(question):\n",
    "    context = retriever.get_relevant_documents(question) # Busca os chunks mais similares à pergunta\n",
    "    answer = (chain({\"input_documents\": context, \"question\": question}, return_only_outputs=True)) ['output_text'] # Gera a resposta com base nos chunks mais similares\n",
    "    return answer"
   ]
  },
  {
   "cell_type": "code",
   "execution_count": null,
   "id": "079a67cc",
   "metadata": {},
   "outputs": [],
   "source": [
    "user_question = input(\"Digite sua pergunta: \")\n",
    "answer = pergunta(user_question)\n",
    "print(\"Responsta:\",answer)"
   ]
  }
 ],
 "metadata": {
  "kernelspec": {
   "display_name": "venv",
   "language": "python",
   "name": "python3"
  },
  "language_info": {
   "codemirror_mode": {
    "name": "ipython",
    "version": 3
   },
   "file_extension": ".py",
   "mimetype": "text/x-python",
   "name": "python",
   "nbconvert_exporter": "python",
   "pygments_lexer": "ipython3",
   "version": "3.13.7"
  }
 },
 "nbformat": 4,
 "nbformat_minor": 5
}
