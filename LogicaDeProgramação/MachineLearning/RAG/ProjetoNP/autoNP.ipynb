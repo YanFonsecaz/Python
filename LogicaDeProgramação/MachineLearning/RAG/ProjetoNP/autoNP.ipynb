{
 "cells": [
  {
   "cell_type": "code",
   "execution_count": 32,
   "id": "15e8d56a",
   "metadata": {},
   "outputs": [],
   "source": [
    "from crewai import Agent, Task, Crew, tools\n",
    "from IPython.display import Markdown\n",
    "from crewai.llm import LLM\n",
    "from playwright_tools import PLAYWRIGHT_TOOLS\n",
    "from crewai_tools import CSVSearchTool"
   ]
  },
  {
   "cell_type": "code",
   "execution_count": 33,
   "id": "38b35878",
   "metadata": {},
   "outputs": [],
   "source": [
    "llm = LLM(model=\"ollama/gemma3:4b\", base_url=\"http://localhost:11434\")"
   ]
  },
  {
   "cell_type": "code",
   "execution_count": 34,
   "id": "cb0e7b4d",
   "metadata": {},
   "outputs": [],
   "source": [
    "Agent_Extrair_Conteudo = Agent(\n",
    "    role=\"Especialista em Extração de Conteúdo Web\",\n",
    "    goal=\"Extrair e analisar conteúdo de páginas web usando ferramentas avançadas do Playwright\",\n",
    "    backstory=\"\"\"Você é um agente especializado em extrair conteúdo de páginas web usando automação \n",
    "    de navegador com Playwright. Você possui as seguintes habilidades:\n",
    "    \n",
    "    1. Navegar para qualquer página web e aguardar o carregamento completo\n",
    "    2. Extrair texto de páginas inteiras\n",
    "    3. Capturar screenshots de páginas para documentação visual\n",
    "    4. Preencher e submeter formulários automaticamente\n",
    "    \n",
    "    Você sempre verifica se a página carregou corretamente antes de extrair informações e \n",
    "    fornece feedback detalhado sobre suas ações.\"\"\",\n",
    "    tools=PLAYWRIGHT_TOOLS,\n",
    "    allow_delegation=False,\n",
    "    llm=llm,\n",
    "    verbose=True\n",
    ")"
   ]
  },
  {
   "cell_type": "code",
   "execution_count": 35,
   "id": "d5a516bc",
   "metadata": {},
   "outputs": [],
   "source": [
    "Task_Extrair_Conteudo = Task(\n",
    "    description=\"\"\"\n",
    "    Acesse o site https://example.com e execute as seguintes ações:\n",
    "    \n",
    "    1. Navegue até a página e confirme que carregou corretamente\n",
    "    2. Extraia todo o texto da página, exceto o conteúdo dentro do menu, rodapé, e qualquer outro conteúdo irrelevante\n",
    "    3. Capture um screenshot da página\n",
    "    \"\"\",\n",
    "    agent=Agent_Extrair_Conteudo,\n",
    "    expected_output=\"Relatório detalhado com o conteúdo extraído, confirmação do screenshot capturado e resumo das informações encontradas na página.\"\n",
    ")"
   ]
  },
  {
   "cell_type": "code",
   "execution_count": 39,
   "id": "e2468fef",
   "metadata": {},
   "outputs": [
    {
     "ename": "ValidationError",
     "evalue": "1 validation error for CSVSearchTool\n  Value error, The CHROMA_OPENAI_API_KEY environment variable is not set. [type=value_error, input_value={'collection_name': 'rag_...mit': 5, 'config': None}, input_type=dict]\n    For further information visit https://errors.pydantic.dev/2.12/v/value_error",
     "output_type": "error",
     "traceback": [
      "\u001b[31m---------------------------------------------------------------------------\u001b[39m",
      "\u001b[31mValidationError\u001b[39m                           Traceback (most recent call last)",
      "\u001b[36mCell\u001b[39m\u001b[36m \u001b[39m\u001b[32mIn[39]\u001b[39m\u001b[32m, line 1\u001b[39m\n\u001b[32m----> \u001b[39m\u001b[32m1\u001b[39m csv_tool = \u001b[43mCSVSearchTool\u001b[49m\u001b[43m(\u001b[49m\u001b[43mcsv\u001b[49m\u001b[43m=\u001b[49m\u001b[33;43m'\u001b[39;49m\u001b[33;43mURLsCTA..csv\u001b[39;49m\u001b[33;43m'\u001b[39;49m\u001b[43m)\u001b[49m\n",
      "\u001b[36mFile \u001b[39m\u001b[32m~/Documents/GitHub/Python/LogicaDeProgramação/MachineLearning/RAG/ProjetoNP/venv/lib/python3.13/site-packages/crewai_tools/tools/csv_search_tool/csv_search_tool.py:33\u001b[39m, in \u001b[36mCSVSearchTool.__init__\u001b[39m\u001b[34m(self, csv, **kwargs)\u001b[39m\n\u001b[32m     32\u001b[39m \u001b[38;5;28;01mdef\u001b[39;00m\u001b[38;5;250m \u001b[39m\u001b[34m__init__\u001b[39m(\u001b[38;5;28mself\u001b[39m, csv: Optional[\u001b[38;5;28mstr\u001b[39m] = \u001b[38;5;28;01mNone\u001b[39;00m, **kwargs):\n\u001b[32m---> \u001b[39m\u001b[32m33\u001b[39m     \u001b[38;5;28;43msuper\u001b[39;49m\u001b[43m(\u001b[49m\u001b[43m)\u001b[49m\u001b[43m.\u001b[49m\u001b[34;43m__init__\u001b[39;49m\u001b[43m(\u001b[49m\u001b[43m*\u001b[49m\u001b[43m*\u001b[49m\u001b[43mkwargs\u001b[49m\u001b[43m)\u001b[49m\n\u001b[32m     34\u001b[39m     \u001b[38;5;28;01mif\u001b[39;00m csv \u001b[38;5;129;01mis\u001b[39;00m \u001b[38;5;129;01mnot\u001b[39;00m \u001b[38;5;28;01mNone\u001b[39;00m:\n\u001b[32m     35\u001b[39m         \u001b[38;5;28mself\u001b[39m.add(csv)\n",
      "\u001b[36mFile \u001b[39m\u001b[32m~/Documents/GitHub/Python/LogicaDeProgramação/MachineLearning/RAG/ProjetoNP/venv/lib/python3.13/site-packages/pydantic/main.py:250\u001b[39m, in \u001b[36mBaseModel.__init__\u001b[39m\u001b[34m(self, **data)\u001b[39m\n\u001b[32m    248\u001b[39m \u001b[38;5;66;03m# `__tracebackhide__` tells pytest and some other tools to omit this function from tracebacks\u001b[39;00m\n\u001b[32m    249\u001b[39m __tracebackhide__ = \u001b[38;5;28;01mTrue\u001b[39;00m\n\u001b[32m--> \u001b[39m\u001b[32m250\u001b[39m validated_self = \u001b[38;5;28;43mself\u001b[39;49m\u001b[43m.\u001b[49m\u001b[43m__pydantic_validator__\u001b[49m\u001b[43m.\u001b[49m\u001b[43mvalidate_python\u001b[49m\u001b[43m(\u001b[49m\u001b[43mdata\u001b[49m\u001b[43m,\u001b[49m\u001b[43m \u001b[49m\u001b[43mself_instance\u001b[49m\u001b[43m=\u001b[49m\u001b[38;5;28;43mself\u001b[39;49m\u001b[43m)\u001b[49m\n\u001b[32m    251\u001b[39m \u001b[38;5;28;01mif\u001b[39;00m \u001b[38;5;28mself\u001b[39m \u001b[38;5;129;01mis\u001b[39;00m \u001b[38;5;129;01mnot\u001b[39;00m validated_self:\n\u001b[32m    252\u001b[39m     warnings.warn(\n\u001b[32m    253\u001b[39m         \u001b[33m'\u001b[39m\u001b[33mA custom validator is returning a value other than `self`.\u001b[39m\u001b[38;5;130;01m\\n\u001b[39;00m\u001b[33m'\u001b[39m\n\u001b[32m    254\u001b[39m         \u001b[33m\"\u001b[39m\u001b[33mReturning anything other than `self` from a top level model validator isn\u001b[39m\u001b[33m'\u001b[39m\u001b[33mt supported when validating via `__init__`.\u001b[39m\u001b[38;5;130;01m\\n\u001b[39;00m\u001b[33m\"\u001b[39m\n\u001b[32m    255\u001b[39m         \u001b[33m'\u001b[39m\u001b[33mSee the `model_validator` docs (https://docs.pydantic.dev/latest/concepts/validators/#model-validators) for more details.\u001b[39m\u001b[33m'\u001b[39m,\n\u001b[32m    256\u001b[39m         stacklevel=\u001b[32m2\u001b[39m,\n\u001b[32m    257\u001b[39m     )\n",
      "\u001b[31mValidationError\u001b[39m: 1 validation error for CSVSearchTool\n  Value error, The CHROMA_OPENAI_API_KEY environment variable is not set. [type=value_error, input_value={'collection_name': 'rag_...mit': 5, 'config': None}, input_type=dict]\n    For further information visit https://errors.pydantic.dev/2.12/v/value_error"
     ]
    }
   ],
   "source": [
    "csv_tool = CSVSearchTool(
    csv='URLsCTA..csv',
    config=dict(
        llm=dict(
            provider="ollama",
            config=dict(
                model="gemma3:4b",
                base_url="http://localhost:11434"
            ),
        ),
        embedder=dict(
            provider="ollama",
            config=dict(
                model="nomic-embed-text",
            ),
        ),
    )
)\n"
   ]
  },
  {
   "cell_type": "code",
   "execution_count": 21,
   "id": "327e2707",
   "metadata": {},
   "outputs": [],
   "source": [
    "Agent_Analise_url = Agent(\n",
    "    role=\"Especialista em Análise de URLs\",\n",
    "    goal=\"Analisar e extrair informações relevantes de URLs\",\n",
    "    backstory=\"\"\"Você é um agente especializado em análise de URLs. Sua tarefa é extrair informações significativas de URLs, como Slug e Conteúdo de páginas web usando automação de navegador com Playwright. Você possui as seguintes habilidades:\n",
    "    \n",
    "    1. Navegar para qualquer página web e aguardar o carregamento completo\n",
    "    2. Extrair texto de páginas inteiras. Isso é útil para tarefas como indexação de sites, rastreamento de links e geração de relatórios.\n",
    "    3. Capturar screenshots de páginas para documentação visual\n",
    "    4. Fornecer um resumo de quais urls fazem sentido serem usadas como links internos no conteudo enviado pelo Agente Extrair Conteudo\n",
    "    \"\"\",\n",
    "    tools=PLAYWRIGHT_TOOLS,\n",
    "    allow_delegation=False,\n",
    "    llm=llm,\n",
    "    verbose=True\n",
    ")"
   ]
  }
 ],
 "metadata": {
  "kernelspec": {
   "display_name": "venv",
   "language": "python",
   "name": "python3"
  },
  "language_info": {
   "codemirror_mode": {
    "name": "ipython",
    "version": 3
   },
   "file_extension": ".py",
   "mimetype": "text/x-python",
   "name": "python",
   "nbconvert_exporter": "python",
   "pygments_lexer": "ipython3",
   "version": "3.13.7"
  }
 },
 "nbformat": 4,
 "nbformat_minor": 5
}
