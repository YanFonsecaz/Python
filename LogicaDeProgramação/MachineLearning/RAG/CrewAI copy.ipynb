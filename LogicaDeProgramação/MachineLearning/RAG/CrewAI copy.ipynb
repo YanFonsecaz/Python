{
 "cells": [
  {
   "cell_type": "code",
   "execution_count": 14,
   "id": "41953eca",
   "metadata": {},
   "outputs": [],
   "source": [
    "from crewai import Agent, Task, Crew\n",
    "from IPython.display import Markdown\n",
    "from crewai.llm import LLM\n"
   ]
  },
  {
   "cell_type": "code",
   "execution_count": 3,
   "id": "0025de9a",
   "metadata": {},
   "outputs": [],
   "source": [
    "# Configura o LLM local via Ollama (model: gemma3:4b)\n",
    "llm = LLM(model=\"ollama/gemma3:4b\", base_url=\"http://localhost:11434\")\n"
   ]
  },
  {
   "cell_type": "code",
   "execution_count": null,
   "id": "d943a7d3",
   "metadata": {},
   "outputs": [],
   "source": [
    "# Grupo De Agents Para Escrever Artigos\n",
    "# 1. Planner - Planejador de Artigos\n",
    "# 2. Writer - Escritor de Artigos\n",
    "# 3. Editor - Editor de Artigos"
   ]
  },
  {
   "cell_type": "code",
   "execution_count": 5,
   "id": "0e708d8b",
   "metadata": {},
   "outputs": [],
   "source": [
    "planner = Agent(\n",
    "    role=\"Planejador de Conteúdo\",\n",
    "    goal=\"Planejar conteúdo envolvente e factual sobre o {topic}\",\n",
    "    backstory=\"\"\"\n",
    "        Você está trabalhando no planejamento de um artigo de blog sobre o tópico: {topic}.\n",
    "        Você coleta informações que ajudam o público a aprender algo e tomar decisões informadas.\n",
    "        Seu trabalho é a base para o Escritor de Conteúdo escrever o artigo sobre esse tópico.\n",
    "    \"\"\",\n",
    "    allow_delegation=False,\n",
    "    verbose=True,\n",
    "    llm=llm,\n",
    ")\n"
   ]
  },
  {
   "cell_type": "code",
   "execution_count": 6,
   "id": "93d0e9e7",
   "metadata": {},
   "outputs": [],
   "source": [
    "writer = Agent(\n",
    "    role=\"Escritor de Conteúdo\",\n",
    "    goal=\"Escrever um artigo opinativo informativo e baseado em fatos sobre o {topic}\",\n",
    "    backstory=\"\"\"\n",
    "        Você está escrevendo uma opinião sobre o tópico: {topic}.\n",
    "        Você baseia sua opinião no trabalho do Planejador de Conteúdo, que fornece um roteiro e contexto relevante.\n",
    "        Você segue os principais objetivos e a direção do roteiro, conforme fornecido pelo Planejador.\n",
    "        Você também oferece insights objetivos e imparciais, apoiados por informações fornecidas pelo Planejador.\n",
    "    \"\"\",\n",
    "    allow_delegation=False,\n",
    "    verbose=True,\n",
    "    llm=llm,\n",
    ")\n"
   ]
  },
  {
   "cell_type": "code",
   "execution_count": 7,
   "id": "57e38f80",
   "metadata": {},
   "outputs": [],
   "source": [
    "editor = Agent(\n",
    "    role=\"Editor\",\n",
    "    goal=\"Editar o artigo para alinhar com o estilo de escrita da organização.\",\n",
    "    backstory=\"\"\"\n",
    "        Você é um editor que recebe um artigo do Escritor de Conteúdo.\n",
    "        Seu objetivo é revisar o artigo para garantir que segue as melhores práticas jornalísticas.\n",
    "    \"\"\",\n",
    "    allow_delegation=False,\n",
    "    verbose=True,\n",
    "    llm=llm,\n",
    ")\n"
   ]
  },
  {
   "cell_type": "code",
   "execution_count": 9,
   "id": "fbb645e3",
   "metadata": {},
   "outputs": [],
   "source": [
    "plan = Task(\n",
    "    description=(\n",
    "        \"1. Priorize as últimas tendências, principais players e notícias relevantes sobre {topic}.\"\n",
    "        \"2. Identifique o público-alvo, considerando seus interesses e dores.\"\n",
    "        \"3. Desenvolva um roteiro detalhado incluindo introdução, pontos-chave e chamada para ação.\"\n",
    "        \"4. Inclua palavras-chave de SEO e dados ou fontes relevantes.\"\n",
    "    ),\n",
    "    expected_output=\"Um plano de conteúdo abrangente com roteiro, análise de público, palavras-chave de SEO e recursos.\",\n",
    "    agent=planner,\n",
    ")\n"
   ]
  },
  {
   "cell_type": "code",
   "execution_count": 11,
   "id": "5156691f",
   "metadata": {},
   "outputs": [],
   "source": [
    "write = Task(\n",
    "    description=(\n",
    "        \"1. Use o plano de conteúdo para elaborar um artigo de blog atraente sobre {topic}.\"\n",
    "        \"2. Incorpore as palavras-chave de SEO de forma natural.\"\n",
    "        \"3. Nomeie seções/subtítulos de maneira envolvente e clara.\"\n",
    "        \"4. Garanta uma estrutura com introdução envolvente, corpo com insights e conclusão resumida.\"\n",
    "    ),\n",
    "    expected_output=\"Um artigo bem estruturado em Markdown, pronto para publicação; cada seção deve ter 2–3 parágrafos.\",\n",
    "    agent=writer,\n",
    ")\n"
   ]
  },
  {
   "cell_type": "code",
   "execution_count": 12,
   "id": "b6143f4a",
   "metadata": {},
   "outputs": [],
   "source": [
    "edit = Task(\n",
    "    description=(\n",
    "        \"Revisar o artigo de blog para correções gramaticais e alinhamento com a voz da marca.\"\n",
    "    ),\n",
    "    expected_output=\"Um artigo bem escrito em Markdown, pronto para publicação.\",\n",
    "    agent=editor,\n",
    ")\n"
   ]
  },
  {
   "cell_type": "code",
   "execution_count": 13,
   "id": "a1be82ad",
   "metadata": {},
   "outputs": [],
   "source": [
    "crew = Crew(\n",
    "    agents=[planner, writer, editor],\n",
    "    tasks=[plan, write, edit],\n",
    "    verbose=True,\n",
    ")"
   ]
  },
  {
   "cell_type": "code",
   "execution_count": null,
   "id": "606d0cce",
   "metadata": {},
   "outputs": [],
   "source": [
    "result = crew.kickoff(inputs={\"topic\": \"O Futuro da IA na Saúde\"})\n"
   ]
  },
  {
   "cell_type": "code",
   "execution_count": null,
   "id": "c83e0086",
   "metadata": {},
   "outputs": [],
   "source": [
    "Markdown(result)"
   ]
  }
 ],
 "metadata": {
  "kernelspec": {
   "display_name": "venv",
   "language": "python",
   "name": "python3"
  },
  "language_info": {
   "codemirror_mode": {
    "name": "ipython",
    "version": 3
   },
   "file_extension": ".py",
   "mimetype": "text/x-python",
   "name": "python",
   "nbconvert_exporter": "python",
   "pygments_lexer": "ipython3",
   "version": "3.13.7"
  }
 },
 "nbformat": 4,
 "nbformat_minor": 5
}
