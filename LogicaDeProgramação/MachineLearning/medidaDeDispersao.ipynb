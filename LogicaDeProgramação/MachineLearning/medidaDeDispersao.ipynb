{
 "cells": [
  {
   "cell_type": "code",
   "execution_count": 1,
   "id": "8568e21d",
   "metadata": {},
   "outputs": [],
   "source": [
    "import pandas as pd"
   ]
  },
  {
   "cell_type": "markdown",
   "id": "1f1d13f9",
   "metadata": {},
   "source": [
    "Um analista de dados de uma loja online esta acompanhando a quantidade de vendas diárias durante uma semana ele anotou as seguintes dados de vendas:"
   ]
  },
  {
   "cell_type": "code",
   "execution_count": 2,
   "id": "410303a4",
   "metadata": {},
   "outputs": [],
   "source": [
    "dict_dados_vendas = {\n",
    "    'dia': ['segunda', 'terça', 'quarta', 'quinta', 'sexta'],\n",
    "    'vendas': [10,12,8,10,10]\n",
    "}"
   ]
  },
  {
   "cell_type": "code",
   "execution_count": 3,
   "id": "b4a7d938",
   "metadata": {},
   "outputs": [
    {
     "data": {
      "text/plain": [
       "{'dia': ['segunda', 'terça', 'quarta', 'quinta', 'sexta'],\n",
       " 'vendas': [10, 12, 8, 10, 10]}"
      ]
     },
     "execution_count": 3,
     "metadata": {},
     "output_type": "execute_result"
    }
   ],
   "source": [
    "dict_dados_vendas"
   ]
  },
  {
   "cell_type": "code",
   "execution_count": 4,
   "id": "de62218c",
   "metadata": {},
   "outputs": [],
   "source": [
    "df_dados_vendas = pd.DataFrame.from_dict(dict_dados_vendas)"
   ]
  },
  {
   "cell_type": "code",
   "execution_count": 5,
   "id": "b4efa2ad",
   "metadata": {},
   "outputs": [
    {
     "data": {
      "text/html": [
       "<div>\n",
       "<style scoped>\n",
       "    .dataframe tbody tr th:only-of-type {\n",
       "        vertical-align: middle;\n",
       "    }\n",
       "\n",
       "    .dataframe tbody tr th {\n",
       "        vertical-align: top;\n",
       "    }\n",
       "\n",
       "    .dataframe thead th {\n",
       "        text-align: right;\n",
       "    }\n",
       "</style>\n",
       "<table border=\"1\" class=\"dataframe\">\n",
       "  <thead>\n",
       "    <tr style=\"text-align: right;\">\n",
       "      <th></th>\n",
       "      <th>dia</th>\n",
       "      <th>vendas</th>\n",
       "    </tr>\n",
       "  </thead>\n",
       "  <tbody>\n",
       "    <tr>\n",
       "      <th>0</th>\n",
       "      <td>segunda</td>\n",
       "      <td>10</td>\n",
       "    </tr>\n",
       "    <tr>\n",
       "      <th>1</th>\n",
       "      <td>terça</td>\n",
       "      <td>12</td>\n",
       "    </tr>\n",
       "    <tr>\n",
       "      <th>2</th>\n",
       "      <td>quarta</td>\n",
       "      <td>8</td>\n",
       "    </tr>\n",
       "    <tr>\n",
       "      <th>3</th>\n",
       "      <td>quinta</td>\n",
       "      <td>10</td>\n",
       "    </tr>\n",
       "    <tr>\n",
       "      <th>4</th>\n",
       "      <td>sexta</td>\n",
       "      <td>10</td>\n",
       "    </tr>\n",
       "  </tbody>\n",
       "</table>\n",
       "</div>"
      ],
      "text/plain": [
       "       dia  vendas\n",
       "0  segunda      10\n",
       "1    terça      12\n",
       "2   quarta       8\n",
       "3   quinta      10\n",
       "4    sexta      10"
      ]
     },
     "execution_count": 5,
     "metadata": {},
     "output_type": "execute_result"
    }
   ],
   "source": [
    "df_dados_vendas"
   ]
  },
  {
   "cell_type": "markdown",
   "id": "2f989649",
   "metadata": {},
   "source": [
    "Qual é o valor mínimo de vendas na semana?"
   ]
  },
  {
   "cell_type": "code",
   "execution_count": 6,
   "id": "b026d8f8",
   "metadata": {},
   "outputs": [
    {
     "data": {
      "text/plain": [
       "np.int64(8)"
      ]
     },
     "execution_count": 6,
     "metadata": {},
     "output_type": "execute_result"
    }
   ],
   "source": [
    "df_dados_vendas['vendas'].min()"
   ]
  },
  {
   "cell_type": "markdown",
   "id": "962e29b5",
   "metadata": {},
   "source": [
    "Qual é o valor maximo de vendas na semana?"
   ]
  },
  {
   "cell_type": "code",
   "execution_count": 7,
   "id": "c06505a1",
   "metadata": {},
   "outputs": [
    {
     "data": {
      "text/plain": [
       "np.int64(12)"
      ]
     },
     "execution_count": 7,
     "metadata": {},
     "output_type": "execute_result"
    }
   ],
   "source": [
    "df_dados_vendas['vendas'].max()"
   ]
  },
  {
   "cell_type": "markdown",
   "id": "4b1daf69",
   "metadata": {},
   "source": [
    "Qual é a amplitude dos dados de vendas?\n",
    "Formula: amp = max - min"
   ]
  },
  {
   "cell_type": "code",
   "execution_count": 8,
   "id": "923916f7",
   "metadata": {},
   "outputs": [
    {
     "data": {
      "text/plain": [
       "np.int64(4)"
      ]
     },
     "execution_count": 8,
     "metadata": {},
     "output_type": "execute_result"
    }
   ],
   "source": [
    "df_dados_vendas['vendas'].max() - df_dados_vendas['vendas'].min()"
   ]
  },
  {
   "cell_type": "markdown",
   "id": "afdfe608",
   "metadata": {},
   "source": [
    "Qual é a media das vendas durante a semana?"
   ]
  },
  {
   "cell_type": "code",
   "execution_count": 9,
   "id": "ae085647",
   "metadata": {},
   "outputs": [
    {
     "data": {
      "text/plain": [
       "np.float64(10.0)"
      ]
     },
     "execution_count": 9,
     "metadata": {},
     "output_type": "execute_result"
    }
   ],
   "source": [
    "df_dados_vendas['vendas'].mean()"
   ]
  },
  {
   "cell_type": "markdown",
   "id": "05f12ef0",
   "metadata": {},
   "source": [
    "Qual é a variancia populacional dessas vendas?\n",
    "formula: var = (1/n) * soma((x - media)^2)"
   ]
  },
  {
   "cell_type": "code",
   "execution_count": 16,
   "id": "6df66550",
   "metadata": {},
   "outputs": [
    {
     "data": {
      "text/plain": [
       "np.float64(1.6)"
      ]
     },
     "execution_count": 16,
     "metadata": {},
     "output_type": "execute_result"
    }
   ],
   "source": [
    "df_dados_vendas['vendas'].var(ddof=0)"
   ]
  },
  {
   "cell_type": "markdown",
   "id": "9870d3e1",
   "metadata": {},
   "source": [
    "Desvio padrão populacional"
   ]
  },
  {
   "cell_type": "code",
   "execution_count": 17,
   "id": "cad8bcc9",
   "metadata": {},
   "outputs": [
    {
     "data": {
      "text/plain": [
       "np.float64(1.2649110640673518)"
      ]
     },
     "execution_count": 17,
     "metadata": {},
     "output_type": "execute_result"
    }
   ],
   "source": [
    "df_dados_vendas['vendas'].std(ddof=0)"
   ]
  }
 ],
 "metadata": {
  "kernelspec": {
   "display_name": "venv",
   "language": "python",
   "name": "python3"
  },
  "language_info": {
   "codemirror_mode": {
    "name": "ipython",
    "version": 3
   },
   "file_extension": ".py",
   "mimetype": "text/x-python",
   "name": "python",
   "nbconvert_exporter": "python",
   "pygments_lexer": "ipython3",
   "version": "3.13.7"
  }
 },
 "nbformat": 4,
 "nbformat_minor": 5
}
